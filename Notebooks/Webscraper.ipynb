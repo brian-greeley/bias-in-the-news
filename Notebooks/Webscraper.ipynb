{
 "cells": [
  {
   "cell_type": "code",
   "execution_count": 1,
   "metadata": {},
   "outputs": [],
   "source": [
    "import requests"
   ]
  },
  {
   "cell_type": "code",
   "execution_count": 2,
   "metadata": {},
   "outputs": [],
   "source": [
    "def getSource(url):\n",
    "    req = requests.get(url)\n",
    "    return req.text"
   ]
  },
  {
   "cell_type": "code",
   "execution_count": 3,
   "metadata": {},
   "outputs": [],
   "source": [
    "from selenium import webdriver\n",
    "from webdriver_manager.chrome import ChromeDriverManager\n",
    "from selenium.webdriver.support.ui import WebDriverWait\n",
    "from selenium import webdriver"
   ]
  },
  {
   "cell_type": "code",
   "execution_count": 4,
   "metadata": {},
   "outputs": [],
   "source": [
    "def getArticles(url):\n",
    "    chrome_options = webdriver.ChromeOptions()\n",
    "    chrome_options.add_experimental_option(\"useAutomationExtension\", False)\n",
    "    chrome_options.add_experimental_option(\"excludeSwitches\",[\"enable-automation\"])\n",
    "    driver = webdriver.Chrome(options=chrome_options,executable_path='C:\\Windows\\Drivers\\chromedriver')\n",
    "    driver.get(url)\n",
    "    articles = WebDriverWait(driver, timeout=20).until(lambda d: d.find_elements_by_tag_name('article'))\n",
    "    driver.close()\n",
    "    return articles"
   ]
  }
 ],
 "metadata": {
  "kernelspec": {
   "display_name": "Python 3",
   "language": "python",
   "name": "python3"
  },
  "language_info": {
   "codemirror_mode": {
    "name": "ipython",
    "version": 3
   },
   "file_extension": ".py",
   "mimetype": "text/x-python",
   "name": "python",
   "nbconvert_exporter": "python",
   "pygments_lexer": "ipython3",
   "version": "3.7.6"
  }
 },
 "nbformat": 4,
 "nbformat_minor": 4
}
