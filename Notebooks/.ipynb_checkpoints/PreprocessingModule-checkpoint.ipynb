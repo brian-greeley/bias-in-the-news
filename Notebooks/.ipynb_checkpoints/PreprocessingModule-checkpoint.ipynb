{
 "cells": [
  {
   "cell_type": "code",
   "execution_count": 1,
   "metadata": {},
   "outputs": [],
   "source": [
    "def preprocessHomepage(url, rawData):\n",
    "    if url == \"https://www.cnn.com/\":\n",
    "        return \"CNN Homepage Preprocessed\"\n",
    "    elif url == \"https://www.foxnews.com/\":\n",
    "        return \"Fox Homepage Preprocessed\"\n",
    "    elif url == \"https://www.usatoday.com/\":\n",
    "        return \"USA Today Homepage Preprocessed\"\n",
    "    elif url == \"https://abcnews.go.com/\":\n",
    "        return \"ABC Homepage Preprocessed\"\n",
    "    elif url == \"https://www.cbsnews.com/\":\n",
    "        return \"CBS Homepage Preprocessed\"\n",
    "    else:\n",
    "        raise ValueError(\"The url passed in: \"+url+\" does not correspond to a known Homepage.\")"
   ]
  },
  {
   "cell_type": "code",
   "execution_count": null,
   "metadata": {},
   "outputs": [],
   "source": [
    "def preprocessArticle(url, rawData):\n",
    "    if \"https://www.cnn.com/\" in url:\n",
    "        return \"CNN Article Preprocessed\"\n",
    "    elif \"https://www.foxnews.com/\" in url:\n",
    "        return \"Fox Article Preprocessed\"\n",
    "    elif \"https://www.usatoday.com/\" in url:\n",
    "        return \"USA Today Article Preprocessed\"\n",
    "    elif \"https://abcnews.go.com/\" in url:\n",
    "        \"ABC Article Preprocessed\"\n",
    "    elif \"https://www.cbsnews.com/\" in url:\n",
    "        return \"CBS Article Preprocessed\"\n",
    "    else:\n",
    "        return \"Used the default Article Preprocessor\""
   ]
  }
 ],
 "metadata": {
  "kernelspec": {
   "display_name": "Python 3",
   "language": "python",
   "name": "python3"
  },
  "language_info": {
   "codemirror_mode": {
    "name": "ipython",
    "version": 3
   },
   "file_extension": ".py",
   "mimetype": "text/x-python",
   "name": "python",
   "nbconvert_exporter": "python",
   "pygments_lexer": "ipython3",
   "version": "3.7.6"
  }
 },
 "nbformat": 4,
 "nbformat_minor": 4
}
