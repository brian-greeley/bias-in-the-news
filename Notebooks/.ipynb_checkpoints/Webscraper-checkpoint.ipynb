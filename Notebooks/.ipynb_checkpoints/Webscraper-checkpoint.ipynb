{
 "cells": [
  {
   "cell_type": "code",
   "execution_count": 1,
   "metadata": {},
   "outputs": [],
   "source": [
    "import requests"
   ]
  },
  {
   "cell_type": "code",
   "execution_count": 2,
   "metadata": {},
   "outputs": [],
   "source": [
    "def getSource(url):\n",
    "    req = requests.get(url)\n",
    "    return req.text"
   ]
  },
  {
   "cell_type": "code",
   "execution_count": null,
   "metadata": {},
   "outputs": [],
   "source": [
    "urls = [\"https://www.cnn.com/\",\n",
    "       \"https://www.foxnews.com/\",\n",
    "       \"https://www.usatoday.com/\",\n",
    "       \"https://abcnews.go.com/\",\n",
    "       \"https://www.cbsnews.com/\"]\n",
    "res = []\n",
    "for url in urls:\n",
    "    res.push(getSource(url))\n",
    "    \n",
    "print(res[0])"
   ]
  }
 ],
 "metadata": {
  "kernelspec": {
   "display_name": "Python 3",
   "language": "python",
   "name": "python3"
  },
  "language_info": {
   "codemirror_mode": {
    "name": "ipython",
    "version": 3
   },
   "file_extension": ".py",
   "mimetype": "text/x-python",
   "name": "python",
   "nbconvert_exporter": "python",
   "pygments_lexer": "ipython3",
   "version": "3.7.6"
  }
 },
 "nbformat": 4,
 "nbformat_minor": 4
}
